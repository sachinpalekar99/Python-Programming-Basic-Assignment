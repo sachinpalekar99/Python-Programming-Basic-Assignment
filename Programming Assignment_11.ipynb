{
 "cells": [
  {
   "cell_type": "markdown",
   "id": "e4076648",
   "metadata": {},
   "source": [
    "# 1.\tWrite a Python program to find words which are greater than given length k?"
   ]
  },
  {
   "cell_type": "code",
   "execution_count": 19,
   "id": "4fd490e7",
   "metadata": {},
   "outputs": [],
   "source": [
    "def grt_than(l2, k1):\n",
    "    \n",
    "    count = 0\n",
    "    for i in l2:\n",
    "        count+=1\n",
    "    if count >= k1:\n",
    "        return l2\n",
    "    else:\n",
    "        pass\n",
    "\n",
    "\n",
    "    \n",
    "def words(l, k):\n",
    "    l1 = []\n",
    "    \n",
    "    for i in l:\n",
    "        a= grt_than(i, k)\n",
    "        \n",
    "        if a!= None:\n",
    "            l1.append(a)\n",
    "        \n",
    "    return l1\n",
    "        "
   ]
  },
  {
   "cell_type": "code",
   "execution_count": 97,
   "id": "feac5081",
   "metadata": {},
   "outputs": [
    {
     "data": {
      "text/plain": [
       "['world', 'hello', 'monkey', 'mango']"
      ]
     },
     "execution_count": 97,
     "metadata": {},
     "output_type": "execute_result"
    }
   ],
   "source": [
    "words([\"world\",\"name\", \"hello\", \"my\",\"monkey\", \"mango\"], 5)"
   ]
  },
  {
   "cell_type": "markdown",
   "id": "2550ffc2",
   "metadata": {},
   "source": [
    "# 2.\tWrite a Python program for removing i-th character from a string?"
   ]
  },
  {
   "cell_type": "code",
   "execution_count": 27,
   "id": "d4ab4d63",
   "metadata": {},
   "outputs": [],
   "source": [
    "def rem_ith(string, i):\n",
    "    string = string.replace(string[i],\"\")\n",
    "    \n",
    "    return string\n"
   ]
  },
  {
   "cell_type": "code",
   "execution_count": 28,
   "id": "383bf623",
   "metadata": {},
   "outputs": [
    {
     "data": {
      "text/plain": [
       "'sachn'"
      ]
     },
     "execution_count": 28,
     "metadata": {},
     "output_type": "execute_result"
    }
   ],
   "source": [
    "rem_ith(\"sachin\", 4)"
   ]
  },
  {
   "cell_type": "markdown",
   "id": "48b69ce6",
   "metadata": {},
   "source": [
    "# 3. Write a Python program to split and join a string?"
   ]
  },
  {
   "cell_type": "code",
   "execution_count": 40,
   "id": "bdec8e84",
   "metadata": {},
   "outputs": [
    {
     "name": "stdout",
     "output_type": "stream",
     "text": [
      "['Write', 'a', 'Python', 'program', 'to', 'split', 'and', 'join', 'a', 'string?']\n",
      "Write a Python program to split and join a string?\n"
     ]
    }
   ],
   "source": [
    "string = \"Write a Python program to split and join a string?\"\n",
    "\n",
    "split = string.split(\" \")\n",
    "print(split)\n",
    "\n",
    "join = \" \".join(split)\n",
    "print(join)"
   ]
  },
  {
   "cell_type": "markdown",
   "id": "fba44af8",
   "metadata": {},
   "source": [
    "# 4. Write a Python to check if a given string is binary string or not?"
   ]
  },
  {
   "cell_type": "code",
   "execution_count": 55,
   "id": "c1de3697",
   "metadata": {},
   "outputs": [],
   "source": [
    "def check(string):\n",
    "    \n",
    "    t = '01'\n",
    "    count = 0\n",
    "    \n",
    "    for i in string:\n",
    "        \n",
    "        if i not in t:\n",
    "            count = 1\n",
    "            break\n",
    "        else:\n",
    "            pass\n",
    "        \n",
    "    if count:\n",
    "        print(\"Not a binary string\")\n",
    "    else:\n",
    "        print(\"Binary string\")"
   ]
  },
  {
   "cell_type": "code",
   "execution_count": 56,
   "id": "bfb2cf9c",
   "metadata": {},
   "outputs": [
    {
     "name": "stdout",
     "output_type": "stream",
     "text": [
      "Not a binary string\n"
     ]
    }
   ],
   "source": [
    "s = \"fsdfsdf\"\n",
    "check(s)"
   ]
  },
  {
   "cell_type": "code",
   "execution_count": 58,
   "id": "7e47dae1",
   "metadata": {},
   "outputs": [
    {
     "name": "stdout",
     "output_type": "stream",
     "text": [
      "Binary string\n"
     ]
    }
   ],
   "source": [
    "s = \"101010000111\"\n",
    "check(s)"
   ]
  },
  {
   "cell_type": "code",
   "execution_count": 59,
   "id": "1ec42eb5",
   "metadata": {},
   "outputs": [
    {
     "name": "stdout",
     "output_type": "stream",
     "text": [
      "Not a binary string\n"
     ]
    }
   ],
   "source": [
    "s = \"1010102200111\"\n",
    "check(s)"
   ]
  },
  {
   "cell_type": "markdown",
   "id": "08cef177",
   "metadata": {},
   "source": [
    "# 5. Write a Python program to find uncommon words from two Strings?"
   ]
  },
  {
   "cell_type": "code",
   "execution_count": 60,
   "id": "6d9766ed",
   "metadata": {},
   "outputs": [],
   "source": [
    "def uncommon_words(string1, string2):\n",
    "    \n",
    "    \n",
    "    str1 = string1.split(\" \")\n",
    "    str2 = string2.split(\" \")\n",
    "    l = []\n",
    "    for i in str1:\n",
    "        if i not in str2:\n",
    "            l.append(i)\n",
    "            \n",
    "    for i in str2:\n",
    "        if i not in str1:\n",
    "            l.append(i)\n",
    "            \n",
    "    return l"
   ]
  },
  {
   "cell_type": "code",
   "execution_count": 61,
   "id": "b0456df1",
   "metadata": {},
   "outputs": [
    {
     "data": {
      "text/plain": [
       "['program',\n",
       " 'find',\n",
       " 'uncommon',\n",
       " 'words',\n",
       " 'from',\n",
       " 'two',\n",
       " 'Strings',\n",
       " 'check',\n",
       " 'if',\n",
       " 'given',\n",
       " 'string',\n",
       " 'is',\n",
       " 'binary',\n",
       " 'string',\n",
       " 'or',\n",
       " 'not']"
      ]
     },
     "execution_count": 61,
     "metadata": {},
     "output_type": "execute_result"
    }
   ],
   "source": [
    "str1 = \"Write a Python program to find uncommon words from two Strings\"\n",
    "str2 = \"Write a Python to check if a given string is binary string or not\"\n",
    "\n",
    "uncommon_words(str1,str2)"
   ]
  },
  {
   "cell_type": "markdown",
   "id": "024bab75",
   "metadata": {},
   "source": [
    "# 6. Write a Python to find all duplicate characters in string?"
   ]
  },
  {
   "cell_type": "code",
   "execution_count": 89,
   "id": "0c6df3ed",
   "metadata": {},
   "outputs": [],
   "source": [
    "def duplicate(string):\n",
    "    duplicate = []\n",
    "    for i in string:\n",
    "        if string.count(i) > 1:\n",
    "            duplicate.append(i)\n",
    "            \n",
    "    return set(duplicate)"
   ]
  },
  {
   "cell_type": "code",
   "execution_count": 90,
   "id": "6b782cb3",
   "metadata": {},
   "outputs": [
    {
     "data": {
      "text/plain": [
       "{' ', 'a', 'c', 'd', 'e', 'i', 'l', 'n', 'r', 's', 't'}"
      ]
     },
     "execution_count": 90,
     "metadata": {},
     "output_type": "execute_result"
    }
   ],
   "source": [
    "duplicate(\"find all duplicate characters in string\")"
   ]
  },
  {
   "cell_type": "markdown",
   "id": "50c36f8e",
   "metadata": {},
   "source": [
    "# 7. Write a Python Program to check if a string contains any special character?"
   ]
  },
  {
   "cell_type": "code",
   "execution_count": 93,
   "id": "ac188d4c",
   "metadata": {},
   "outputs": [],
   "source": [
    "import re\n",
    "\n",
    "def spl_char(string):\n",
    "    regex = re.compile('[@_!#$%^&*()<>?/\\|}{~:]')\n",
    "    \n",
    "    if regex.search(string) == None:\n",
    "        print(\"No special characters\")\n",
    "        \n",
    "    else:\n",
    "        print(\"Contains special characters\")\n",
    "    "
   ]
  },
  {
   "cell_type": "code",
   "execution_count": 94,
   "id": "8de8d0d5",
   "metadata": {},
   "outputs": [
    {
     "name": "stdout",
     "output_type": "stream",
     "text": [
      "No special characters\n"
     ]
    }
   ],
   "source": [
    "spl_char(\"i learn pyhton\")"
   ]
  },
  {
   "cell_type": "code",
   "execution_count": 95,
   "id": "f1c85dad",
   "metadata": {},
   "outputs": [
    {
     "name": "stdout",
     "output_type": "stream",
     "text": [
      "Contains special characters\n"
     ]
    }
   ],
   "source": [
    "spl_char(\"i learn pyhton: i love python\")"
   ]
  },
  {
   "cell_type": "code",
   "execution_count": null,
   "id": "f094f9c7",
   "metadata": {},
   "outputs": [],
   "source": []
  }
 ],
 "metadata": {
  "kernelspec": {
   "display_name": "Python 3 (ipykernel)",
   "language": "python",
   "name": "python3"
  },
  "language_info": {
   "codemirror_mode": {
    "name": "ipython",
    "version": 3
   },
   "file_extension": ".py",
   "mimetype": "text/x-python",
   "name": "python",
   "nbconvert_exporter": "python",
   "pygments_lexer": "ipython3",
   "version": "3.9.7"
  }
 },
 "nbformat": 4,
 "nbformat_minor": 5
}
