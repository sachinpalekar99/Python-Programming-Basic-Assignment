{
 "cells": [
  {
   "cell_type": "markdown",
   "id": "9b6c4993",
   "metadata": {},
   "source": [
    "1.\tWrite a Python Program to find sum of array?"
   ]
  },
  {
   "cell_type": "code",
   "execution_count": 1,
   "id": "a110d0a3",
   "metadata": {},
   "outputs": [],
   "source": [
    "def sum(array):\n",
    "    \n",
    "    sum = 0\n",
    "    \n",
    "    for i in array:\n",
    "        sum+= i\n",
    "        \n",
    "    return sum"
   ]
  },
  {
   "cell_type": "code",
   "execution_count": 2,
   "id": "fc7abaf0",
   "metadata": {},
   "outputs": [
    {
     "data": {
      "text/plain": [
       "21"
      ]
     },
     "execution_count": 2,
     "metadata": {},
     "output_type": "execute_result"
    }
   ],
   "source": [
    "l = [1,2,3,4,5,6]\n",
    "sum(l)"
   ]
  },
  {
   "cell_type": "markdown",
   "id": "84f1f74a",
   "metadata": {},
   "source": [
    "2.\tWrite a Python Program to find largest element in an array?"
   ]
  },
  {
   "cell_type": "code",
   "execution_count": 5,
   "id": "9c0da00c",
   "metadata": {},
   "outputs": [],
   "source": [
    "def max_array(array):\n",
    "    \n",
    "    max = array[0]\n",
    "    \n",
    "    for i in array:\n",
    "        \n",
    "        if i > max:\n",
    "            max = i\n",
    "            \n",
    "    return max"
   ]
  },
  {
   "cell_type": "code",
   "execution_count": 7,
   "id": "68913c96",
   "metadata": {},
   "outputs": [
    {
     "data": {
      "text/plain": [
       "4544"
      ]
     },
     "execution_count": 7,
     "metadata": {},
     "output_type": "execute_result"
    }
   ],
   "source": [
    "l = [23,545,7,9,4544,9,343,67,1235]\n",
    "max_array(l)"
   ]
  },
  {
   "cell_type": "markdown",
   "id": "b82c615b",
   "metadata": {},
   "source": [
    "3.\tWrite a Python Program for array rotation?"
   ]
  },
  {
   "cell_type": "code",
   "execution_count": 9,
   "id": "abbb043a",
   "metadata": {},
   "outputs": [
    {
     "name": "stdout",
     "output_type": "stream",
     "text": [
      "Rotated array: \n",
      "[43, -3242, 657, 213, 54, 23, -34, 65, 34]\n"
     ]
    }
   ],
   "source": [
    "l = [34,65,-34,23,54,213,657,-3242,43]\n",
    "\n",
    "print(\"Rotated array: \")\n",
    "print(l[::-1])"
   ]
  },
  {
   "cell_type": "markdown",
   "id": "6a63579e",
   "metadata": {},
   "source": [
    "4.\tWrite a Python Program to Split the array and add the first part to the end?"
   ]
  },
  {
   "cell_type": "code",
   "execution_count": 15,
   "id": "85e86fc9",
   "metadata": {},
   "outputs": [],
   "source": [
    "def split_array(array,split):\n",
    "    \n",
    "    \"\"\"l = list\n",
    "    split = splitIndex \"\"\"\n",
    "    spl_array = []\n",
    "    for i in range(len(l)):\n",
    "        index = (i + len(l) + split)%len(l)\n",
    "        spl_array.append(l[index])\n",
    "        \n",
    "    return spl_array\n",
    "    "
   ]
  },
  {
   "cell_type": "code",
   "execution_count": 16,
   "id": "7c718730",
   "metadata": {},
   "outputs": [
    {
     "data": {
      "text/plain": [
       "[54, 213, 657, -3242, 43, 34, 65, -34, 23]"
      ]
     },
     "execution_count": 16,
     "metadata": {},
     "output_type": "execute_result"
    }
   ],
   "source": [
    "l = [34,65,-34,23,54,213,657,-3242,43]\n",
    "split_index = 4\n",
    "\n",
    "split_array(l,split_index)"
   ]
  },
  {
   "cell_type": "markdown",
   "id": "7594645e",
   "metadata": {},
   "source": [
    "5.\tWrite a Python Program to check if given array is Monotonic?"
   ]
  },
  {
   "cell_type": "code",
   "execution_count": 19,
   "id": "0c129a82",
   "metadata": {},
   "outputs": [],
   "source": [
    "def monotonic_check(array):\n",
    "    \n",
    "    flag = True\n",
    "    \n",
    "    if array[0] >= array[(len(array)-1)]:\n",
    "        for i in range(len(array)-2):\n",
    "            if array[i] < array[i+1]:\n",
    "                flag = False\n",
    "    else :\n",
    "        for i in range(len(array)-2):\n",
    "            if array[i] > array[i+1]:\n",
    "                flag = False\n",
    "                \n",
    "    if flag:\n",
    "        print(\"Array is monotonic\")\n",
    "        \n",
    "    else:\n",
    "        print(\"Array is not monotonic\")\n",
    "            "
   ]
  },
  {
   "cell_type": "code",
   "execution_count": 20,
   "id": "0e15cca3",
   "metadata": {},
   "outputs": [
    {
     "name": "stdout",
     "output_type": "stream",
     "text": [
      "Array is monotonic\n"
     ]
    }
   ],
   "source": [
    "l = [1,2,3,4]\n",
    "monotonic_check(l)"
   ]
  },
  {
   "cell_type": "code",
   "execution_count": 21,
   "id": "7e1973d1",
   "metadata": {},
   "outputs": [
    {
     "name": "stdout",
     "output_type": "stream",
     "text": [
      "Array is not monotonic\n"
     ]
    }
   ],
   "source": [
    "l = [34,656,65,21,76,23]\n",
    "monotonic_check(l)"
   ]
  },
  {
   "cell_type": "code",
   "execution_count": 22,
   "id": "7a0a4c54",
   "metadata": {},
   "outputs": [
    {
     "name": "stdout",
     "output_type": "stream",
     "text": [
      "Array is monotonic\n"
     ]
    }
   ],
   "source": [
    "l = [324,65,34,12,-23,-45,-87]\n",
    "monotonic_check(l)"
   ]
  }
 ],
 "metadata": {
  "kernelspec": {
   "display_name": "Python 3 (ipykernel)",
   "language": "python",
   "name": "python3"
  },
  "language_info": {
   "codemirror_mode": {
    "name": "ipython",
    "version": 3
   },
   "file_extension": ".py",
   "mimetype": "text/x-python",
   "name": "python",
   "nbconvert_exporter": "python",
   "pygments_lexer": "ipython3",
   "version": "3.9.7"
  }
 },
 "nbformat": 4,
 "nbformat_minor": 5
}
