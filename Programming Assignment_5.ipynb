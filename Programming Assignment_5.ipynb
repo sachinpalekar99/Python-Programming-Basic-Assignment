{
 "cells": [
  {
   "cell_type": "markdown",
   "id": "a016b1b7",
   "metadata": {},
   "source": [
    "1.\tWrite a Python Program to Find LCM?"
   ]
  },
  {
   "cell_type": "code",
   "execution_count": 1,
   "id": "52b40e21",
   "metadata": {},
   "outputs": [],
   "source": [
    "\"\"\"Function which returns LCM of two numbers\"\"\"\n",
    "def lcm(a,b):\n",
    "    \n",
    "    high = a if a > b else b\n",
    "    i=1\n",
    "    \n",
    "    while True:\n",
    "        if ((high*i)%a==0) and ((high*i)%b==0):\n",
    "            break\n",
    "        else:\n",
    "            i+=1\n",
    "            \n",
    "    return high*i\n"
   ]
  },
  {
   "cell_type": "code",
   "execution_count": 2,
   "id": "0a9af2fa",
   "metadata": {},
   "outputs": [
    {
     "data": {
      "text/plain": [
       "72"
      ]
     },
     "execution_count": 2,
     "metadata": {},
     "output_type": "execute_result"
    }
   ],
   "source": [
    "lcm(24,36)"
   ]
  },
  {
   "cell_type": "markdown",
   "id": "2cf84c9e",
   "metadata": {},
   "source": [
    "2.\tWrite a Python Program to Find HCF?"
   ]
  },
  {
   "cell_type": "code",
   "execution_count": 3,
   "id": "72e5750b",
   "metadata": {},
   "outputs": [],
   "source": [
    "\"\"\"Function which returns HCF of two numbers\"\"\"\n",
    "def hcf(a,b):\n",
    "    \n",
    "    low = a if a < b else b\n",
    "    \n",
    "    for i in range(1, low+1):\n",
    "        if a%i == 0 and b%i == 0:\n",
    "            hcf = i\n",
    "            \n",
    "    return hcf"
   ]
  },
  {
   "cell_type": "code",
   "execution_count": 4,
   "id": "7469aad3",
   "metadata": {},
   "outputs": [
    {
     "data": {
      "text/plain": [
       "9"
      ]
     },
     "execution_count": 4,
     "metadata": {},
     "output_type": "execute_result"
    }
   ],
   "source": [
    "hcf(9,36)"
   ]
  },
  {
   "cell_type": "markdown",
   "id": "415caa9d",
   "metadata": {},
   "source": [
    "3.\tWrite a Python Program to Convert Decimal to Binary, Octal and Hexadecimal?"
   ]
  },
  {
   "cell_type": "code",
   "execution_count": 5,
   "id": "6622082b",
   "metadata": {},
   "outputs": [],
   "source": [
    "def conversion(a):\n",
    "    print(\"Binary of {} is {}\".format(a,bin(a)))\n",
    "    print(\"Octal of {} is {}\".format(a,oct(a)))\n",
    "    print(\"Hexadecimal of {} is {}\".format(a,hex(a)))"
   ]
  },
  {
   "cell_type": "code",
   "execution_count": 6,
   "id": "87e38a2e",
   "metadata": {},
   "outputs": [
    {
     "name": "stdout",
     "output_type": "stream",
     "text": [
      "Binary of 369 is 0b101110001\n",
      "Octal of 369 is 0o561\n",
      "Hexadecimal of 369 is 0x171\n"
     ]
    }
   ],
   "source": [
    "conversion(369)"
   ]
  },
  {
   "cell_type": "markdown",
   "id": "a3dc7705",
   "metadata": {},
   "source": [
    "4.\tWrite a Python Program To Find ASCII value of a character?"
   ]
  },
  {
   "cell_type": "code",
   "execution_count": 7,
   "id": "738c0c30",
   "metadata": {},
   "outputs": [
    {
     "name": "stdout",
     "output_type": "stream",
     "text": [
      "Enter a character: A\n",
      "ASCII value of A is 65\n"
     ]
    }
   ],
   "source": [
    "try:\n",
    "    char = input(\"Enter a character: \")\n",
    "    print(\"ASCII value of {} is {}\".format(char, ord(char)))\n",
    "except Exception as e:\n",
    "    print(e)"
   ]
  },
  {
   "cell_type": "markdown",
   "id": "a1662abe",
   "metadata": {},
   "source": [
    "5.\tWrite a Python Program to Make a Simple Calculator with 4 basic mathematical operations?"
   ]
  },
  {
   "cell_type": "code",
   "execution_count": 24,
   "id": "e1968ee0",
   "metadata": {},
   "outputs": [],
   "source": [
    "def calculator():\n",
    "    try:\n",
    "        num1 = int(input(\"Enter a number: \"))\n",
    "\n",
    "\n",
    "        while True:\n",
    "            print(\"For Addition = '+'\")\n",
    "            print(\"For Subtraction = '-'\")\n",
    "            print(\"For Multiplication = '*'\")\n",
    "            print(\"For Division = '/'\")\n",
    "            print(\"For Exit: 'X'\")\n",
    "\n",
    "            op =  input(\"Enter the choice of operation: \")\n",
    "            if op == \"X\" or op == \"x\":\n",
    "                break\n",
    "\n",
    "            num2 = int(input(\"Enter a next number: \"))\n",
    "\n",
    "            if op == \"+\":\n",
    "                num1=num1+num2\n",
    "                print(\"output: \",num1)\n",
    "            elif op == \"-\":\n",
    "                num1=num1-num2\n",
    "                print(\"output: \",num1)\n",
    "            elif op ==\"*\":\n",
    "                num1=num1*num2\n",
    "                print(\"output: \",num1)\n",
    "            elif op == \"/\":\n",
    "                try:\n",
    "                    num1=num1/num2\n",
    "                    print(\"output: \",num1)\n",
    "                except Exception as e:\n",
    "                    num1 = \"Error\"\n",
    "                    print(\"Division by zero is not possible\")\n",
    "                    break\n",
    "            else:        \n",
    "                print(\"Incorrect operator entered\")\n",
    "                break\n",
    "\n",
    "        print(\"\\nFinal Result:\",num1)    \n",
    "    except Exception as e:\n",
    "        print(e)"
   ]
  },
  {
   "cell_type": "code",
   "execution_count": 16,
   "id": "3449e085",
   "metadata": {},
   "outputs": [
    {
     "name": "stdout",
     "output_type": "stream",
     "text": [
      "Enter a number: 4\n",
      "For Addition = '+'\n",
      "For Subtraction = '-'\n",
      "For Multiplication = '*'\n",
      "For Division = '/'\n",
      "For Exit: 'X'\n",
      "Enter the choice of operation: +\n",
      "Enter a next number: 5\n",
      "output:  9\n",
      "For Addition = '+'\n",
      "For Subtraction = '-'\n",
      "For Multiplication = '*'\n",
      "For Division = '/'\n",
      "For Exit: 'X'\n",
      "Enter the choice of operation: x\n",
      "\n",
      "Final Result: 9\n"
     ]
    }
   ],
   "source": [
    "calculator()"
   ]
  },
  {
   "cell_type": "code",
   "execution_count": 17,
   "id": "f7918ea7",
   "metadata": {},
   "outputs": [
    {
     "name": "stdout",
     "output_type": "stream",
     "text": [
      "Enter a number: 6\n",
      "For Addition = '+'\n",
      "For Subtraction = '-'\n",
      "For Multiplication = '*'\n",
      "For Division = '/'\n",
      "For Exit: 'X'\n",
      "Enter the choice of operation: -\n",
      "Enter a next number: 2\n",
      "output:  4\n",
      "For Addition = '+'\n",
      "For Subtraction = '-'\n",
      "For Multiplication = '*'\n",
      "For Division = '/'\n",
      "For Exit: 'X'\n",
      "Enter the choice of operation: +\n",
      "Enter a next number: 4\n",
      "output:  8\n",
      "For Addition = '+'\n",
      "For Subtraction = '-'\n",
      "For Multiplication = '*'\n",
      "For Division = '/'\n",
      "For Exit: 'X'\n",
      "Enter the choice of operation: x\n",
      "\n",
      "Final Result: 8\n"
     ]
    }
   ],
   "source": [
    "calculator()"
   ]
  },
  {
   "cell_type": "code",
   "execution_count": 21,
   "id": "327c9055",
   "metadata": {},
   "outputs": [
    {
     "name": "stdout",
     "output_type": "stream",
     "text": [
      "Enter a number: 4\n",
      "For Addition = '+'\n",
      "For Subtraction = '-'\n",
      "For Multiplication = '*'\n",
      "For Division = '/'\n",
      "For Exit: 'X'\n",
      "Enter the choice of operation: *\n",
      "Enter a next number: 5\n",
      "output:  20\n",
      "For Addition = '+'\n",
      "For Subtraction = '-'\n",
      "For Multiplication = '*'\n",
      "For Division = '/'\n",
      "For Exit: 'X'\n",
      "Enter the choice of operation: x\n",
      "\n",
      "Final Result: 20\n"
     ]
    }
   ],
   "source": [
    "calculator()"
   ]
  },
  {
   "cell_type": "code",
   "execution_count": 22,
   "id": "ffd9e012",
   "metadata": {},
   "outputs": [
    {
     "name": "stdout",
     "output_type": "stream",
     "text": [
      "Enter a number: 5\n",
      "For Addition = '+'\n",
      "For Subtraction = '-'\n",
      "For Multiplication = '*'\n",
      "For Division = '/'\n",
      "For Exit: 'X'\n",
      "Enter the choice of operation: /\n",
      "Enter a next number: 2\n",
      "output:  2.5\n",
      "For Addition = '+'\n",
      "For Subtraction = '-'\n",
      "For Multiplication = '*'\n",
      "For Division = '/'\n",
      "For Exit: 'X'\n",
      "Enter the choice of operation: x\n",
      "\n",
      "Final Result: 2.5\n"
     ]
    }
   ],
   "source": [
    "calculator()"
   ]
  },
  {
   "cell_type": "code",
   "execution_count": 25,
   "id": "acf0c035",
   "metadata": {},
   "outputs": [
    {
     "name": "stdout",
     "output_type": "stream",
     "text": [
      "Enter a number: 4\n",
      "For Addition = '+'\n",
      "For Subtraction = '-'\n",
      "For Multiplication = '*'\n",
      "For Division = '/'\n",
      "For Exit: 'X'\n",
      "Enter the choice of operation: /\n",
      "Enter a next number: 0\n",
      "Division by zero is not possible\n",
      "\n",
      "Final Result: Error\n"
     ]
    }
   ],
   "source": [
    "calculator()"
   ]
  },
  {
   "cell_type": "code",
   "execution_count": null,
   "id": "a3b0a6fa",
   "metadata": {},
   "outputs": [],
   "source": []
  }
 ],
 "metadata": {
  "kernelspec": {
   "display_name": "Python 3 (ipykernel)",
   "language": "python",
   "name": "python3"
  },
  "language_info": {
   "codemirror_mode": {
    "name": "ipython",
    "version": 3
   },
   "file_extension": ".py",
   "mimetype": "text/x-python",
   "name": "python",
   "nbconvert_exporter": "python",
   "pygments_lexer": "ipython3",
   "version": "3.9.7"
  }
 },
 "nbformat": 4,
 "nbformat_minor": 5
}
