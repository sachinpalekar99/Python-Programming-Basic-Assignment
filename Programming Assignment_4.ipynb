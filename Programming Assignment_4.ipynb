{
 "cells": [
  {
   "cell_type": "markdown",
   "id": "001eb75e",
   "metadata": {},
   "source": [
    "1.\tWrite a Python Program to Find the Factorial of a Number?"
   ]
  },
  {
   "cell_type": "code",
   "execution_count": 1,
   "id": "fbab2044",
   "metadata": {},
   "outputs": [
    {
     "name": "stdout",
     "output_type": "stream",
     "text": [
      "Enter an integer:5\n",
      "\n",
      "Factorial of 5: 120\n"
     ]
    }
   ],
   "source": [
    "num = int(input(\"Enter an integer:\"))\n",
    "fact = 1\n",
    "for i in range(num, 0, -1):\n",
    "    fact = fact*i\n",
    "    \n",
    "print(\"\\nFactorial of {}: {}\".format(num, fact))"
   ]
  },
  {
   "cell_type": "markdown",
   "id": "0f8f52d1",
   "metadata": {},
   "source": [
    "2.\tWrite a Python Program to Display the multiplication Table?"
   ]
  },
  {
   "cell_type": "code",
   "execution_count": 2,
   "id": "57fe6990",
   "metadata": {},
   "outputs": [
    {
     "name": "stdout",
     "output_type": "stream",
     "text": [
      "Enter an integer:9\n",
      "Multiplication Table of 9:\n",
      "9 X 1 = 9\n",
      "9 X 2 = 18\n",
      "9 X 3 = 27\n",
      "9 X 4 = 36\n",
      "9 X 5 = 45\n",
      "9 X 6 = 54\n",
      "9 X 7 = 63\n",
      "9 X 8 = 72\n",
      "9 X 9 = 81\n",
      "9 X 10 = 90\n"
     ]
    }
   ],
   "source": [
    "num = int(input(\"Enter an integer:\"))\n",
    "\n",
    "print(\"Multiplication Table of {}:\".format(num))\n",
    "\n",
    "for i in range(1, 11):\n",
    "    print(\"{} X {} = {}\".format(num, i, num*i))"
   ]
  },
  {
   "cell_type": "markdown",
   "id": "a25cac27",
   "metadata": {},
   "source": [
    "3.\tWrite a Python Program to Print the Fibonacci sequence?"
   ]
  },
  {
   "cell_type": "code",
   "execution_count": 3,
   "id": "6982fe21",
   "metadata": {},
   "outputs": [
    {
     "name": "stdout",
     "output_type": "stream",
     "text": [
      "Enter length of the Fibonacci sequence:10\n",
      "1 1 2 3 5 8 13 21 34 55 "
     ]
    }
   ],
   "source": [
    "fib_len = int(input(\"Enter length of the Fibonacci sequence:\"))\n",
    "a = 1\n",
    "b = 1\n",
    "i = 0\n",
    "\n",
    "while(i < fib_len):\n",
    "    print(a, end = ' ')\n",
    "    a, b = b, a+b\n",
    "    i+=1\n",
    "    "
   ]
  },
  {
   "cell_type": "markdown",
   "id": "984cba01",
   "metadata": {},
   "source": [
    "4.\tWrite a Python Program to Check Armstrong Number?"
   ]
  },
  {
   "cell_type": "code",
   "execution_count": 4,
   "id": "b4644b41",
   "metadata": {},
   "outputs": [],
   "source": [
    "import math"
   ]
  },
  {
   "cell_type": "code",
   "execution_count": 5,
   "id": "6262e7fa",
   "metadata": {},
   "outputs": [],
   "source": [
    "def check_armstr(num):\n",
    "    l = len(str(num))\n",
    "    temp = num\n",
    "    sum1 = 0\n",
    "    while (temp > 0):\n",
    "        a = temp % 10\n",
    "        sum1 += math.pow(a, l) \n",
    "        temp = int(temp/10)\n",
    "    if (sum1 == num):\n",
    "        return True\n",
    "    else:\n",
    "        return False"
   ]
  },
  {
   "cell_type": "code",
   "execution_count": 6,
   "id": "e3bf15f2",
   "metadata": {},
   "outputs": [
    {
     "name": "stdout",
     "output_type": "stream",
     "text": [
      "Enter an integer:1634\n",
      "1634 is an Armstrong number\n"
     ]
    }
   ],
   "source": [
    "n = int(input(\"Enter an integer:\"))\n",
    "\n",
    "if (check_armstr(n)):\n",
    "    print(\"{} is an Armstrong number\".format(n))\n",
    "else:\n",
    "    print(\"{} is not an Armstrong number\".format(n))"
   ]
  },
  {
   "cell_type": "code",
   "execution_count": 7,
   "id": "ce2cf94d",
   "metadata": {},
   "outputs": [
    {
     "name": "stdout",
     "output_type": "stream",
     "text": [
      "Enter an integer:189\n",
      "189 is not an Armstrong number\n"
     ]
    }
   ],
   "source": [
    "n = int(input(\"Enter an integer:\"))\n",
    "\n",
    "if (check_armstr(n)):\n",
    "    print(\"{} is an Armstrong number\".format(n))\n",
    "else:\n",
    "    print(\"{} is not an Armstrong number\".format(n))"
   ]
  },
  {
   "cell_type": "markdown",
   "id": "41d65867",
   "metadata": {},
   "source": [
    "5.\tWrite a Python Program to Find Armstrong Number in an Interval?"
   ]
  },
  {
   "cell_type": "code",
   "execution_count": 10,
   "id": "7cfa8f0a",
   "metadata": {},
   "outputs": [
    {
     "name": "stdout",
     "output_type": "stream",
     "text": [
      "Enter start of the interval:25\n",
      "Enter a three digit start of the interval:100\n",
      "Enter stop of the interval:10000\n",
      "Armstrong numbers in the interval 100 to 10000: \n",
      "153 370 371 407 1634 8208 9474 "
     ]
    }
   ],
   "source": [
    "start = int(input(\"Enter start of the interval:\"))\n",
    "if start < 100:\n",
    "    start = int(input(\"Enter a three digit start of the interval:\"))\n",
    "finish = int(input(\"Enter stop of the interval:\"))\n",
    "\n",
    "print(\"Armstrong numbers in the interval {} to {}: \".format(start,finish))\n",
    "for i in range (start,finish):\n",
    "    if check_armstr(i):\n",
    "        print(i, end = \" \")"
   ]
  },
  {
   "cell_type": "markdown",
   "id": "636361f9",
   "metadata": {},
   "source": [
    "6.\tWrite a Python Program to Find the Sum of Natural Numbers?"
   ]
  },
  {
   "cell_type": "code",
   "execution_count": 11,
   "id": "854131c1",
   "metadata": {},
   "outputs": [
    {
     "name": "stdout",
     "output_type": "stream",
     "text": [
      "Enter an positive integer to find the sum of natural numbers:100\n",
      "Sum of first 100 natural numbers = 5050\n"
     ]
    }
   ],
   "source": [
    "num = int(input(\"Enter an positive integer to find the sum of natural numbers:\"))\n",
    "num_sum = 0\n",
    "\n",
    "for i in range(1, num+1):\n",
    "    num_sum+=i\n",
    "\n",
    "print(\"Sum of first {} natural numbers = {}\". format(num, num_sum))"
   ]
  }
 ],
 "metadata": {
  "kernelspec": {
   "display_name": "Python 3 (ipykernel)",
   "language": "python",
   "name": "python3"
  },
  "language_info": {
   "codemirror_mode": {
    "name": "ipython",
    "version": 3
   },
   "file_extension": ".py",
   "mimetype": "text/x-python",
   "name": "python",
   "nbconvert_exporter": "python",
   "pygments_lexer": "ipython3",
   "version": "3.9.7"
  }
 },
 "nbformat": 4,
 "nbformat_minor": 5
}
