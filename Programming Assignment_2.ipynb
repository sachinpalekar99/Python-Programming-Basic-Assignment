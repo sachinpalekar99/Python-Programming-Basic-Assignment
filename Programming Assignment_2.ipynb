{
 "cells": [
  {
   "cell_type": "markdown",
   "id": "10c3f353",
   "metadata": {},
   "source": [
    "1.\tWrite a Python program to convert kilometers to miles?"
   ]
  },
  {
   "cell_type": "code",
   "execution_count": 1,
   "id": "36cf8902",
   "metadata": {},
   "outputs": [
    {
     "name": "stdout",
     "output_type": "stream",
     "text": [
      "Enter distance in kilometers: 10\n",
      "10.0 kilometers is equivalent to 6.211180124223602 miles\n"
     ]
    }
   ],
   "source": [
    "k=float(input(\"Enter distance in kilometers: \"))\n",
    "\n",
    "m = k/1.61\n",
    "\n",
    "print(\"{} kilometers is equivalent to {} miles\" .format(k,m))"
   ]
  },
  {
   "cell_type": "markdown",
   "id": "fe05e8d4",
   "metadata": {},
   "source": [
    "2.\tWrite a Python program to convert Celsius to Fahrenheit?"
   ]
  },
  {
   "cell_type": "code",
   "execution_count": 2,
   "id": "5a85c442",
   "metadata": {},
   "outputs": [
    {
     "name": "stdout",
     "output_type": "stream",
     "text": [
      "Enter temperature in celsius: 37\n",
      "37.0 Celsius is equivalent to 98.60000000000001 Fahrenheit\n"
     ]
    }
   ],
   "source": [
    "c=float(input(\"Enter temperature in celsius: \"))\n",
    "\n",
    "f=(1.8*c)+32\n",
    "\n",
    "print(\"{} Celsius is equivalent to {} Fahrenheit\" .format(c,f))"
   ]
  },
  {
   "cell_type": "markdown",
   "id": "b7eb3a30",
   "metadata": {},
   "source": [
    "3.\tWrite a Python program to display calendar?"
   ]
  },
  {
   "cell_type": "code",
   "execution_count": 3,
   "id": "43dcac35",
   "metadata": {},
   "outputs": [
    {
     "name": "stdout",
     "output_type": "stream",
     "text": [
      "Enter year: 2022\n",
      "Enter month: 2\n",
      "   February 2022\n",
      "Mo Tu We Th Fr Sa Su\n",
      "    1  2  3  4  5  6\n",
      " 7  8  9 10 11 12 13\n",
      "14 15 16 17 18 19 20\n",
      "21 22 23 24 25 26 27\n",
      "28\n",
      "\n"
     ]
    }
   ],
   "source": [
    "import calendar\n",
    "\n",
    "year= int(input(\"Enter year: \"))\n",
    "month= int(input(\"Enter month: \"))\n",
    "\n",
    "print(calendar.month(year,month))"
   ]
  },
  {
   "cell_type": "code",
   "execution_count": 4,
   "id": "379e4b4d",
   "metadata": {},
   "outputs": [
    {
     "name": "stdout",
     "output_type": "stream",
     "text": [
      "                                  2022\n",
      "\n",
      "      January                   February                   March\n",
      "Mo Tu We Th Fr Sa Su      Mo Tu We Th Fr Sa Su      Mo Tu We Th Fr Sa Su\n",
      "                1  2          1  2  3  4  5  6          1  2  3  4  5  6\n",
      " 3  4  5  6  7  8  9       7  8  9 10 11 12 13       7  8  9 10 11 12 13\n",
      "10 11 12 13 14 15 16      14 15 16 17 18 19 20      14 15 16 17 18 19 20\n",
      "17 18 19 20 21 22 23      21 22 23 24 25 26 27      21 22 23 24 25 26 27\n",
      "24 25 26 27 28 29 30      28                        28 29 30 31\n",
      "31\n",
      "\n",
      "       April                      May                       June\n",
      "Mo Tu We Th Fr Sa Su      Mo Tu We Th Fr Sa Su      Mo Tu We Th Fr Sa Su\n",
      "             1  2  3                         1             1  2  3  4  5\n",
      " 4  5  6  7  8  9 10       2  3  4  5  6  7  8       6  7  8  9 10 11 12\n",
      "11 12 13 14 15 16 17       9 10 11 12 13 14 15      13 14 15 16 17 18 19\n",
      "18 19 20 21 22 23 24      16 17 18 19 20 21 22      20 21 22 23 24 25 26\n",
      "25 26 27 28 29 30         23 24 25 26 27 28 29      27 28 29 30\n",
      "                          30 31\n",
      "\n",
      "        July                     August                  September\n",
      "Mo Tu We Th Fr Sa Su      Mo Tu We Th Fr Sa Su      Mo Tu We Th Fr Sa Su\n",
      "             1  2  3       1  2  3  4  5  6  7                1  2  3  4\n",
      " 4  5  6  7  8  9 10       8  9 10 11 12 13 14       5  6  7  8  9 10 11\n",
      "11 12 13 14 15 16 17      15 16 17 18 19 20 21      12 13 14 15 16 17 18\n",
      "18 19 20 21 22 23 24      22 23 24 25 26 27 28      19 20 21 22 23 24 25\n",
      "25 26 27 28 29 30 31      29 30 31                  26 27 28 29 30\n",
      "\n",
      "      October                   November                  December\n",
      "Mo Tu We Th Fr Sa Su      Mo Tu We Th Fr Sa Su      Mo Tu We Th Fr Sa Su\n",
      "                1  2          1  2  3  4  5  6                1  2  3  4\n",
      " 3  4  5  6  7  8  9       7  8  9 10 11 12 13       5  6  7  8  9 10 11\n",
      "10 11 12 13 14 15 16      14 15 16 17 18 19 20      12 13 14 15 16 17 18\n",
      "17 18 19 20 21 22 23      21 22 23 24 25 26 27      19 20 21 22 23 24 25\n",
      "24 25 26 27 28 29 30      28 29 30                  26 27 28 29 30 31\n",
      "31\n",
      "\n"
     ]
    }
   ],
   "source": [
    "print(calendar.calendar(year))"
   ]
  },
  {
   "cell_type": "markdown",
   "id": "d0ea8687",
   "metadata": {},
   "source": [
    "4.\tWrite a Python program to solve quadratic equation?"
   ]
  },
  {
   "cell_type": "code",
   "execution_count": 5,
   "id": "be157e0c",
   "metadata": {},
   "outputs": [
    {
     "name": "stdout",
     "output_type": "stream",
     "text": [
      "ax**2 + bx + c = 0\n",
      "Enter the co-eff a:2\n",
      "Enter the co-eff b:3\n",
      "Enter the constant c:5\n"
     ]
    },
    {
     "data": {
      "text/plain": [
       "'The solutions are (-0.75+1.3919410907075054j) and (-0.75-1.3919410907075054j)'"
      ]
     },
     "execution_count": 5,
     "metadata": {},
     "output_type": "execute_result"
    }
   ],
   "source": [
    "import cmath\n",
    "\n",
    "def quad_eq(a,b,c):\n",
    "    \n",
    "    d= b**2 - (4*a*c)\n",
    "    \n",
    "    sol1= (-b + cmath.sqrt(d))/(2*a)\n",
    "    sol2= (-b - cmath.sqrt(d))/(2*a)\n",
    "    \n",
    "    return f\"The solutions are {sol1} and {sol2}\"\n",
    "\n",
    "print(\"ax**2 + bx + c = 0\")\n",
    "a=float(input(\"Enter the co-eff a:\"))\n",
    "b=float(input(\"Enter the co-eff b:\"))\n",
    "c=float(input(\"Enter the constant c:\"))\n",
    "\n",
    "quad_eq(a,b,c)\n"
   ]
  },
  {
   "cell_type": "markdown",
   "id": "0d949966",
   "metadata": {},
   "source": [
    "5.\tWrite a Python program to swap two variables without temp variable?"
   ]
  },
  {
   "cell_type": "code",
   "execution_count": 6,
   "id": "0b8505f8",
   "metadata": {},
   "outputs": [
    {
     "name": "stdout",
     "output_type": "stream",
     "text": [
      "Enter variable 1: 10\n",
      "Enter variable 2: 23\n",
      "Before swapping variable 1 is 10 and variable 2 is 23\n",
      "After swapping variable 1 is 23 and variable 2 is 10\n"
     ]
    }
   ],
   "source": [
    "var1=int(input(\"Enter variable 1: \"))\n",
    "var2=int(input(\"Enter variable 2: \"))\n",
    "\n",
    "print(f\"Before swapping variable 1 is {var1} and variable 2 is {var2}\")\n",
    "\n",
    "var1,var2 = var2,var1\n",
    "\n",
    "print(f\"After swapping variable 1 is {var1} and variable 2 is {var2}\")"
   ]
  }
 ],
 "metadata": {
  "kernelspec": {
   "display_name": "Python 3 (ipykernel)",
   "language": "python",
   "name": "python3"
  },
  "language_info": {
   "codemirror_mode": {
    "name": "ipython",
    "version": 3
   },
   "file_extension": ".py",
   "mimetype": "text/x-python",
   "name": "python",
   "nbconvert_exporter": "python",
   "pygments_lexer": "ipython3",
   "version": "3.9.7"
  }
 },
 "nbformat": 4,
 "nbformat_minor": 5
}
