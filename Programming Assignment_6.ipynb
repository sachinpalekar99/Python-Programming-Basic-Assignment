{
 "cells": [
  {
   "cell_type": "markdown",
   "id": "5f551763",
   "metadata": {},
   "source": [
    "1.\tWrite a Python Program to Display Fibonacci Sequence Using Recursion?"
   ]
  },
  {
   "cell_type": "code",
   "execution_count": 1,
   "id": "7e394e72",
   "metadata": {},
   "outputs": [],
   "source": [
    "def fibo(n):\n",
    "    if n<=1:\n",
    "        return n\n",
    "    else:\n",
    "        return(fibo(n-1)+fibo(n-2))"
   ]
  },
  {
   "cell_type": "code",
   "execution_count": 2,
   "id": "dc3e9903",
   "metadata": {},
   "outputs": [
    {
     "name": "stdout",
     "output_type": "stream",
     "text": [
      "0\n",
      "1\n",
      "1\n",
      "2\n",
      "3\n",
      "5\n",
      "8\n",
      "13\n",
      "21\n",
      "34\n"
     ]
    }
   ],
   "source": [
    "for i in range(10):\n",
    "    print(fibo(i))"
   ]
  },
  {
   "cell_type": "markdown",
   "id": "e6bc6d11",
   "metadata": {},
   "source": [
    "2.\tWrite a Python Program to Find Factorial of Number Using Recursion?"
   ]
  },
  {
   "cell_type": "code",
   "execution_count": 3,
   "id": "fdb9037e",
   "metadata": {},
   "outputs": [],
   "source": [
    "def fact(n):\n",
    "    if n == 0:\n",
    "        return 1\n",
    "    else:\n",
    "        return n*fact(n-1)"
   ]
  },
  {
   "cell_type": "code",
   "execution_count": 4,
   "id": "f792f0c2",
   "metadata": {},
   "outputs": [
    {
     "data": {
      "text/plain": [
       "120"
      ]
     },
     "execution_count": 4,
     "metadata": {},
     "output_type": "execute_result"
    }
   ],
   "source": [
    "fact(5)"
   ]
  },
  {
   "cell_type": "code",
   "execution_count": 5,
   "id": "9d3c59f7",
   "metadata": {},
   "outputs": [
    {
     "data": {
      "text/plain": [
       "3628800"
      ]
     },
     "execution_count": 5,
     "metadata": {},
     "output_type": "execute_result"
    }
   ],
   "source": [
    "fact(10)"
   ]
  },
  {
   "cell_type": "markdown",
   "id": "387416d2",
   "metadata": {},
   "source": [
    "3.\tWrite a Python Program to calculate your Body Mass Index?"
   ]
  },
  {
   "cell_type": "code",
   "execution_count": 6,
   "id": "18ccb05a",
   "metadata": {},
   "outputs": [],
   "source": [
    "def bmi(weight, height):\n",
    "    return weight/(height*height)"
   ]
  },
  {
   "cell_type": "code",
   "execution_count": 7,
   "id": "2c284782",
   "metadata": {},
   "outputs": [
    {
     "data": {
      "text/plain": [
       "20.761245674740486"
      ]
     },
     "execution_count": 7,
     "metadata": {},
     "output_type": "execute_result"
    }
   ],
   "source": [
    "bmi(60,1.7)"
   ]
  },
  {
   "cell_type": "markdown",
   "id": "bbc37de2",
   "metadata": {},
   "source": [
    "4.\tWrite a Python Program to calculate the natural logarithm of any number?"
   ]
  },
  {
   "cell_type": "code",
   "execution_count": 8,
   "id": "4c973332",
   "metadata": {},
   "outputs": [
    {
     "name": "stdout",
     "output_type": "stream",
     "text": [
      "Enter the number: 10\n",
      "2.302585092994046\n"
     ]
    }
   ],
   "source": [
    "import math\n",
    "try:\n",
    "    num = int(input(\"Enter the number: \"))\n",
    "except Exception as e:\n",
    "    print(e)\n",
    "else:\n",
    "    print(math.log(num))"
   ]
  },
  {
   "cell_type": "markdown",
   "id": "d2952f28",
   "metadata": {},
   "source": [
    "5.\tWrite a Python Program for cube sum of first n natural numbers?"
   ]
  },
  {
   "cell_type": "code",
   "execution_count": 9,
   "id": "a0820896",
   "metadata": {},
   "outputs": [],
   "source": [
    "def cube_sum(n):\n",
    "    if n==0:\n",
    "        return 0\n",
    "    else:\n",
    "        return (cube_sum(n-1)+(n**3))"
   ]
  },
  {
   "cell_type": "code",
   "execution_count": 10,
   "id": "3e0779a6",
   "metadata": {},
   "outputs": [
    {
     "data": {
      "text/plain": [
       "36"
      ]
     },
     "execution_count": 10,
     "metadata": {},
     "output_type": "execute_result"
    }
   ],
   "source": [
    "cube_sum(3)"
   ]
  },
  {
   "cell_type": "code",
   "execution_count": null,
   "id": "815acdc2",
   "metadata": {},
   "outputs": [],
   "source": []
  }
 ],
 "metadata": {
  "kernelspec": {
   "display_name": "Python 3 (ipykernel)",
   "language": "python",
   "name": "python3"
  },
  "language_info": {
   "codemirror_mode": {
    "name": "ipython",
    "version": 3
   },
   "file_extension": ".py",
   "mimetype": "text/x-python",
   "name": "python",
   "nbconvert_exporter": "python",
   "pygments_lexer": "ipython3",
   "version": "3.9.7"
  }
 },
 "nbformat": 4,
 "nbformat_minor": 5
}
