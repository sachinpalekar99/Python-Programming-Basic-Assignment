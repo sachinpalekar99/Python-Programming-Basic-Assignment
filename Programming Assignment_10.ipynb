{
 "cells": [
  {
   "cell_type": "markdown",
   "id": "792320f1",
   "metadata": {},
   "source": [
    "1.\tWrite a Python program to find sum of elements in list?"
   ]
  },
  {
   "cell_type": "code",
   "execution_count": 1,
   "id": "28d2c639",
   "metadata": {},
   "outputs": [],
   "source": [
    "def sum(l):\n",
    "    \n",
    "    tot = 0\n",
    "\n",
    "    for i in l:\n",
    "        tot+=i\n",
    "\n",
    "    return tot"
   ]
  },
  {
   "cell_type": "code",
   "execution_count": 7,
   "id": "f083166f",
   "metadata": {},
   "outputs": [
    {
     "name": "stdout",
     "output_type": "stream",
     "text": [
      "80\n"
     ]
    }
   ],
   "source": [
    "lst = [2,35,27,4,12]\n",
    "print(sum(lst))"
   ]
  },
  {
   "cell_type": "markdown",
   "id": "87472234",
   "metadata": {},
   "source": [
    "2.\tWrite a Python program to  Multiply all numbers in the list?"
   ]
  },
  {
   "cell_type": "code",
   "execution_count": 10,
   "id": "05d6ff7c",
   "metadata": {},
   "outputs": [],
   "source": [
    "def prod(l):\n",
    "    \n",
    "    result = 1\n",
    "    \n",
    "    for i in l:\n",
    "        \n",
    "        result*=i\n",
    "        \n",
    "    return result\n",
    "    "
   ]
  },
  {
   "cell_type": "code",
   "execution_count": 11,
   "id": "35ca3bc7",
   "metadata": {},
   "outputs": [
    {
     "name": "stdout",
     "output_type": "stream",
     "text": [
      "720\n"
     ]
    }
   ],
   "source": [
    "lst1 = [2,3,5,6,4]\n",
    "\n",
    "print(prod(lst1))"
   ]
  },
  {
   "cell_type": "markdown",
   "id": "7adbe14a",
   "metadata": {},
   "source": [
    "3.\tWrite a Python program to find smallest number in a list?"
   ]
  },
  {
   "cell_type": "code",
   "execution_count": 12,
   "id": "1c225ede",
   "metadata": {},
   "outputs": [],
   "source": [
    "def find_sml(l):\n",
    "    \n",
    "    small = l[0]\n",
    "    \n",
    "    for i in l:\n",
    "        \n",
    "        if i < small:\n",
    "            small = i\n",
    "    return small\n"
   ]
  },
  {
   "cell_type": "code",
   "execution_count": 13,
   "id": "158d0ca8",
   "metadata": {},
   "outputs": [
    {
     "name": "stdout",
     "output_type": "stream",
     "text": [
      "-123\n"
     ]
    }
   ],
   "source": [
    "lst2 = [3,32,123,65,12,0,-3,423,-123,867]\n",
    "\n",
    "print(find_sml(lst2))"
   ]
  },
  {
   "cell_type": "markdown",
   "id": "25713fa1",
   "metadata": {},
   "source": [
    "4.\tWrite a Python program to find largest number in a list?"
   ]
  },
  {
   "cell_type": "code",
   "execution_count": 14,
   "id": "b788830f",
   "metadata": {},
   "outputs": [],
   "source": [
    "def find_lar(l):\n",
    "    \n",
    "    large = l[0]\n",
    "    \n",
    "    for i in l:\n",
    "        \n",
    "        if i > large:\n",
    "            large = i\n",
    "            \n",
    "    return large\n"
   ]
  },
  {
   "cell_type": "code",
   "execution_count": 15,
   "id": "36e42178",
   "metadata": {},
   "outputs": [
    {
     "name": "stdout",
     "output_type": "stream",
     "text": [
      "543\n"
     ]
    }
   ],
   "source": [
    "lst3 = [-32,423,234,65,334,-453,24,3,543,2]\n",
    "\n",
    "print(find_lar(lst3))"
   ]
  },
  {
   "cell_type": "markdown",
   "id": "322a12bc",
   "metadata": {},
   "source": [
    "5.\tWrite a Python program to find second largest number in a list?"
   ]
  },
  {
   "cell_type": "code",
   "execution_count": 21,
   "id": "8eb04a6e",
   "metadata": {},
   "outputs": [
    {
     "name": "stdout",
     "output_type": "stream",
     "text": [
      "second largest number is :  34\n"
     ]
    }
   ],
   "source": [
    "l = [34,12,65,32,8,0,-21,33]\n",
    "\n",
    "l.sort(reverse=True)\n",
    "\n",
    "print(\"second largest number is : \", l[1])"
   ]
  },
  {
   "cell_type": "markdown",
   "id": "61f6bfde",
   "metadata": {},
   "source": [
    "6.\tWrite a Python program to find N largest elements from a list?"
   ]
  },
  {
   "cell_type": "code",
   "execution_count": 24,
   "id": "435cbe43",
   "metadata": {},
   "outputs": [],
   "source": [
    "def nlarge(l,n):\n",
    "    \n",
    "    l.sort(reverse=True)\n",
    "    \n",
    "    return l[n-1]"
   ]
  },
  {
   "cell_type": "code",
   "execution_count": 25,
   "id": "1006ac1d",
   "metadata": {},
   "outputs": [
    {
     "data": {
      "text/plain": [
       "45"
      ]
     },
     "execution_count": 25,
     "metadata": {},
     "output_type": "execute_result"
    }
   ],
   "source": [
    "# 3rd Largest Element\n",
    "list1 = [34,45,2,4,23,87,98]\n",
    "\n",
    "nlarge(list1,3)"
   ]
  },
  {
   "cell_type": "code",
   "execution_count": 27,
   "id": "c7fd9e97",
   "metadata": {},
   "outputs": [
    {
     "data": {
      "text/plain": [
       "56"
      ]
     },
     "execution_count": 27,
     "metadata": {},
     "output_type": "execute_result"
    }
   ],
   "source": [
    "# 5th Largest Element\n",
    "\n",
    "list2 = [65,23,34,87,987,435,5,2,56]\n",
    "\n",
    "nlarge(list2,5)"
   ]
  },
  {
   "cell_type": "markdown",
   "id": "e852cf3d",
   "metadata": {},
   "source": [
    "7.\tWrite a Python program to print even numbers in a list?"
   ]
  },
  {
   "cell_type": "code",
   "execution_count": 28,
   "id": "f756096d",
   "metadata": {},
   "outputs": [
    {
     "data": {
      "text/plain": [
       "[32, 324, 6, 22, 64, 78, 32, 44]"
      ]
     },
     "execution_count": 28,
     "metadata": {},
     "output_type": "execute_result"
    }
   ],
   "source": [
    "l = [23,45,67,32,65,87,324,6,22,64,78,32,44]\n",
    "\n",
    "[i for i in l if i % 2 == 0]"
   ]
  },
  {
   "cell_type": "markdown",
   "id": "52b4f404",
   "metadata": {},
   "source": [
    "8.\tWrite a Python program to print odd numbers in a List?"
   ]
  },
  {
   "cell_type": "code",
   "execution_count": 29,
   "id": "6537811a",
   "metadata": {},
   "outputs": [
    {
     "data": {
      "text/plain": [
       "[35, 63, 45, 123, 3]"
      ]
     },
     "execution_count": 29,
     "metadata": {},
     "output_type": "execute_result"
    }
   ],
   "source": [
    "l = [54,35,32,54,63,45,123,56,3,4]\n",
    "\n",
    "[i for i in l if i % 2 == 1]"
   ]
  },
  {
   "cell_type": "code",
   "execution_count": 30,
   "id": "afe22d44",
   "metadata": {},
   "outputs": [
    {
     "name": "stdout",
     "output_type": "stream",
     "text": [
      "Object `List` not found.\n"
     ]
    }
   ],
   "source": [
    "9.\tWrite a Python program to Remove empty List from List?"
   ]
  },
  {
   "cell_type": "markdown",
   "id": "d9a7adb8",
   "metadata": {},
   "source": [
    "9.\tWrite a Python program to Remove empty List from List"
   ]
  },
  {
   "cell_type": "code",
   "execution_count": 31,
   "id": "2cbde64e",
   "metadata": {},
   "outputs": [],
   "source": [
    "def rem_emp(l):\n",
    "    \n",
    "    l1 = []\n",
    "    \n",
    "    for i in l:\n",
    "        if type(i) == list:\n",
    "            \n",
    "            if len(i) != 0:\n",
    "                l1.append(i)\n",
    "                \n",
    "        else:\n",
    "            l1.append(i)\n",
    "            \n",
    "    return l1\n",
    "            "
   ]
  },
  {
   "cell_type": "code",
   "execution_count": 32,
   "id": "aac0b183",
   "metadata": {},
   "outputs": [
    {
     "data": {
      "text/plain": [
       "[34, 54, 65, 76, 'sachin', [45, 3, 6, 3], 54, (45, 53, 3), 32]"
      ]
     },
     "execution_count": 32,
     "metadata": {},
     "output_type": "execute_result"
    }
   ],
   "source": [
    "lis = [34,54,[],65,76,\"sachin\", [45,3,6,3], 54, (45,53,3), [], 32, []]\n",
    "\n",
    "rem_emp(lis)"
   ]
  },
  {
   "cell_type": "markdown",
   "id": "94e8cfd8",
   "metadata": {},
   "source": [
    "10.\tWrite a Python program to Cloning or Copying a list?"
   ]
  },
  {
   "cell_type": "code",
   "execution_count": 33,
   "id": "217cf71b",
   "metadata": {},
   "outputs": [],
   "source": [
    "def clone(l):\n",
    "    \n",
    "    l1 = []\n",
    "    \n",
    "    for i in l:\n",
    "        \n",
    "        l1.append(i)\n",
    "        \n",
    "    print(\"Cloned list: \", l1)"
   ]
  },
  {
   "cell_type": "code",
   "execution_count": 34,
   "id": "c47df546",
   "metadata": {},
   "outputs": [
    {
     "name": "stdout",
     "output_type": "stream",
     "text": [
      "Cloned list:  [342, [45, 23], 5, 'kumar', [], (45, 5, 3), 4]\n"
     ]
    }
   ],
   "source": [
    "list1 = [342,[45,23],5,\"kumar\", [], (45,5,3), 4]\n",
    "\n",
    "clone(list1)"
   ]
  },
  {
   "cell_type": "markdown",
   "id": "89f173ff",
   "metadata": {},
   "source": [
    "11.\tWrite a Python program to Count occurrences of an element in a list?"
   ]
  },
  {
   "cell_type": "code",
   "execution_count": 42,
   "id": "61bb35a1",
   "metadata": {},
   "outputs": [],
   "source": [
    "def occurrences(lst, element):\n",
    "    count = 0\n",
    "    for i in lst:\n",
    "        if i == element:\n",
    "            count += 1\n",
    "            \n",
    "    return count"
   ]
  },
  {
   "cell_type": "code",
   "execution_count": 43,
   "id": "eacb9c55",
   "metadata": {},
   "outputs": [
    {
     "data": {
      "text/plain": [
       "5"
      ]
     },
     "execution_count": 43,
     "metadata": {},
     "output_type": "execute_result"
    }
   ],
   "source": [
    "l = [1,1,1, 3, 4, 1, 7, 8, 6,6,2,1]\n",
    "\n",
    "occurrences(l,1)"
   ]
  },
  {
   "cell_type": "code",
   "execution_count": 44,
   "id": "18183075",
   "metadata": {},
   "outputs": [
    {
     "data": {
      "text/plain": [
       "0"
      ]
     },
     "execution_count": 44,
     "metadata": {},
     "output_type": "execute_result"
    }
   ],
   "source": [
    "occurrences(l,5)"
   ]
  },
  {
   "cell_type": "code",
   "execution_count": null,
   "id": "0c6862ed",
   "metadata": {},
   "outputs": [],
   "source": []
  }
 ],
 "metadata": {
  "kernelspec": {
   "display_name": "Python 3 (ipykernel)",
   "language": "python",
   "name": "python3"
  },
  "language_info": {
   "codemirror_mode": {
    "name": "ipython",
    "version": 3
   },
   "file_extension": ".py",
   "mimetype": "text/x-python",
   "name": "python",
   "nbconvert_exporter": "python",
   "pygments_lexer": "ipython3",
   "version": "3.9.7"
  }
 },
 "nbformat": 4,
 "nbformat_minor": 5
}
