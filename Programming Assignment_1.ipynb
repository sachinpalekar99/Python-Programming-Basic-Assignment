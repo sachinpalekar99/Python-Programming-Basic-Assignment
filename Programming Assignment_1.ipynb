{
 "cells": [
  {
   "cell_type": "markdown",
   "id": "a5b61d18",
   "metadata": {},
   "source": [
    "1.\tWrite a Python program to print \"Hello Python\"?"
   ]
  },
  {
   "cell_type": "code",
   "execution_count": 1,
   "id": "a8b739b3",
   "metadata": {},
   "outputs": [
    {
     "name": "stdout",
     "output_type": "stream",
     "text": [
      "Hello Python\n"
     ]
    }
   ],
   "source": [
    "print(\"Hello Python\")"
   ]
  },
  {
   "cell_type": "markdown",
   "id": "b005de13",
   "metadata": {},
   "source": [
    "2.\tWrite a Python program to do arithmetical operations addition and division.?"
   ]
  },
  {
   "cell_type": "code",
   "execution_count": 2,
   "id": "be92cdf5",
   "metadata": {},
   "outputs": [
    {
     "name": "stdout",
     "output_type": "stream",
     "text": [
      "6\n",
      "8\n",
      "Sum of 6 and 8 is 14\n",
      "Division of 6 by 8 is 0.75\n"
     ]
    }
   ],
   "source": [
    "a= int(input())\n",
    "b= int(input())\n",
    "\n",
    "add = a+b\n",
    "div = a/b\n",
    "\n",
    "print(\"Sum of {} and {} is {}\" .format(a,b,add))\n",
    "print(\"Division of {} by {} is {}\".format(a,b,div))"
   ]
  },
  {
   "cell_type": "markdown",
   "id": "eae84c49",
   "metadata": {},
   "source": [
    "3.\tWrite a Python program to find the area of a triangle?"
   ]
  },
  {
   "cell_type": "code",
   "execution_count": 3,
   "id": "a0c9afdc",
   "metadata": {},
   "outputs": [
    {
     "name": "stdout",
     "output_type": "stream",
     "text": [
      "Enter base of triangle: 3\n",
      "Enter height of triangle: 4\n",
      "Area of triangle with base 3 and height 4 is 6.0\n"
     ]
    }
   ],
   "source": [
    "base = int(input(\"Enter base of triangle: \"))\n",
    "height = int(input(\"Enter height of triangle: \"))\n",
    "\n",
    "area = base*height/2\n",
    "\n",
    "print(\"Area of triangle with base {} and height {} is {}\" .format(base, height,area))"
   ]
  },
  {
   "cell_type": "markdown",
   "id": "b60949be",
   "metadata": {},
   "source": [
    "4.\tWrite a Python program to swap two variables?"
   ]
  },
  {
   "cell_type": "code",
   "execution_count": 4,
   "id": "9b3434a8",
   "metadata": {},
   "outputs": [
    {
     "name": "stdout",
     "output_type": "stream",
     "text": [
      "Enter variable 1:10\n",
      "Enter variable 2:50\n",
      "Before swap:\n",
      "Variable1=10 and Variable2=50\n",
      "After swap:\n",
      "Variable1=50 and Variable2=10\n"
     ]
    }
   ],
   "source": [
    "var1 = input(\"Enter variable 1:\")\n",
    "var2 = input(\"Enter variable 2:\")\n",
    "\n",
    "print(\"Before swap:\\nVariable1={} and Variable2={}\" .format(var1,var2))\n",
    "\n",
    "temp=var1\n",
    "var1=var2\n",
    "var2=temp\n",
    "\n",
    "print(\"After swap:\\nVariable1={} and Variable2={}\" .format(var1,var2))"
   ]
  },
  {
   "cell_type": "markdown",
   "id": "6bc41c75",
   "metadata": {},
   "source": [
    "5.\tWrite a Python program to generate a random number?"
   ]
  },
  {
   "cell_type": "code",
   "execution_count": 5,
   "id": "3f4ff897",
   "metadata": {},
   "outputs": [
    {
     "name": "stdout",
     "output_type": "stream",
     "text": [
      "772\n"
     ]
    }
   ],
   "source": [
    "import random\n",
    "\n",
    "print(random.randint(1, 1000))"
   ]
  }
 ],
 "metadata": {
  "kernelspec": {
   "display_name": "Python 3 (ipykernel)",
   "language": "python",
   "name": "python3"
  },
  "language_info": {
   "codemirror_mode": {
    "name": "ipython",
    "version": 3
   },
   "file_extension": ".py",
   "mimetype": "text/x-python",
   "name": "python",
   "nbconvert_exporter": "python",
   "pygments_lexer": "ipython3",
   "version": "3.9.7"
  }
 },
 "nbformat": 4,
 "nbformat_minor": 5
}
